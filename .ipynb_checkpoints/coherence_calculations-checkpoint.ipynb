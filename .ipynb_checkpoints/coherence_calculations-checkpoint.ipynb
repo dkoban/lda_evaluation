{
 "cells": [
  {
   "cell_type": "code",
   "execution_count": 1,
   "metadata": {},
   "outputs": [],
   "source": [
    "import pandas as pd\n",
    "from gensim.corpora.dictionary import Dictionary\n",
    "\n",
    "data = []\n",
    "with open('/Users/dankoban/Documents/EM6575/mallet_command_line/mallet_terminal_input_crowdtangle.txt','r') as infile:\n",
    "    for line in infile:\n",
    "        line = line.split(' ')   \n",
    "        data.append(line)      "
   ]
  },
  {
   "cell_type": "code",
   "execution_count": 2,
   "metadata": {},
   "outputs": [],
   "source": [
    "TopicTermFreq = pd.read_csv('/Users/dankoban/Documents/EM6575/mallet_command_line/ct_tidy_topics.csv')\n",
    "\n",
    "topic_term_list = []\n",
    "top_terms = []\n",
    "for k in range(0, 49):\n",
    "    top_terms_topic_k = TopicTermFreq[TopicTermFreq['topic'] == k].sort_values('count', ascending = False)['term'].tolist()[0:10]\n",
    "    top_terms = top_terms + top_terms_topic_k\n",
    "    topic_term_list.append(top_terms_topic_k)\n",
    "\n",
    "top_terms = list(set(top_terms))"
   ]
  },
  {
   "cell_type": "code",
   "execution_count": null,
   "metadata": {},
   "outputs": [],
   "source": [
    "texts = []\n",
    "for row in data:\n",
    "    texts.append([word.lower() for word in row if word.lower() in top_terms])"
   ]
  },
  {
   "cell_type": "code",
   "execution_count": null,
   "metadata": {},
   "outputs": [],
   "source": [
    "dictionary = Dictionary(texts)\n",
    "corpus = [dictionary.doc2bow(text) for text in texts]"
   ]
  },
  {
   "cell_type": "code",
   "execution_count": null,
   "metadata": {},
   "outputs": [],
   "source": [
    "cm = CoherenceModel(topics=[top_n_terms], corpus=corpus, dictionary=dictionary, coherence='u_mass')\n",
    "coherence_scores = cm.get_coherence_per_topic()"
   ]
  },
  {
   "cell_type": "code",
   "execution_count": null,
   "metadata": {},
   "outputs": [],
   "source": [
    "coherence_scores"
   ]
  },
  {
   "cell_type": "code",
   "execution_count": null,
   "metadata": {},
   "outputs": [],
   "source": [
    "from concurrent.futures import ThreadPoolExecutor\n",
    "from tqdm.notebook import tqdm\n",
    "from gensim.models import CoherenceModel\n",
    "import pandas as pd\n",
    "\n",
    "vocab = pd.read_feather('~/Documents/EM6575/term_doc_files/doc0-1M_2.feather')\n",
    "print(len(vocab))\n",
    "vocab = vocab[vocab['term'].notnull()]\n",
    "print(len(vocab))\n",
    "texts = []\n",
    "counter = 0\n",
    "doc_ids = vocab['doc_id'].unique().tolist()\n",
    "\n",
    "def extract_doc_vocab(doc_id):\n",
    "    return(vocab['term'][vocab['doc_id'] == doc_id].tolist())\n",
    "\n",
    "with ThreadPoolExecutor() as executor:\n",
    "    with tqdm(total = len(doc_ids)) as progress:\n",
    "        futures = []\n",
    "        for doc_id in doc_ids:\n",
    "            future = executor.submit(extract_doc_vocab, doc_id)\n",
    "            future.add_done_callback(lambda p: progress.update())\n",
    "            futures.append(future)\n",
    "        texts = []\n",
    "        for future in futures:\n",
    "            result = future.result()\n",
    "            texts.append(result)\n",
    "len(texts)"
   ]
  },
  {
   "cell_type": "code",
   "execution_count": null,
   "metadata": {},
   "outputs": [],
   "source": [
    "from gensim.corpora.dictionary import Dictionary\n",
    "dictionary = Dictionary(texts)\n",
    "corpus = [dictionary.doc2bow(text) for text in texts]"
   ]
  },
  {
   "cell_type": "code",
   "execution_count": null,
   "metadata": {},
   "outputs": [],
   "source": [
    "topics = [\n",
    "    ['coronavirus', 'covid', 'vaccine', 'drug', 'patients', 'treatment', 'research', 'pets', 'gates', 'animals'],\n",
    "    ['school', 'students', 'schools', 'coronavirus', 'university', 'education', 'learning', 'march', 'student', 'closed'],\n",
    "    ['trump', 'president', 'coronavirus', 'donald', 'white', 'house', 'pandemic', 'response', 'news', 'trumps'],\n",
    "    ['coronavirus', 'due', 'season', 'postponed', 'pandemic', 'events', 'sports', 'league', 'cancelled', 'canceled'],\n",
    "    ['positive', 'coronavirus', 'tested', 'testing', 'test', 'covid', 'tests', 'health', 'case', 'hospital'],\n",
    "    ['coronavirus', 'bill', 'house', 'senate', 'package', 'relief', 'stimulus', 'congress', 'trump', 'billion'],\n",
    "    ['people', 'government', 'crisis', 'world', 'pandemic', 'time', 'coronavirus', 'political', 'country', 'public'],\n",
    "    ['support', 'coronavirus', 'community', 'people', 'covid', 'local', 'food', 'council', 'fund', 'vulnerable'],\n",
    "    ['county', 'health', 'covid', 'cases', 'coronavirus', 'department', 'case', 'confirmed', 'public', 'state'],\n",
    "    ['coronavirus', 'italy', 'countries', 'iran', 'country', 'world', 'italian', 'spain', 'lockdown', 'europe'],\n",
    "    ['coronavirus', 'order', 'state', 'governor', 'gov', 'spread', 'businesses', 'closed', 'close', 'stay'],\n",
    "    ['covid', 'photos', 'timeline', 'stay', 'coronavirus', 'home', 'safe', 'stayhome', 'post', 'staysafe'],\n",
    "    ['workers', 'care', 'health', 'coronavirus', 'hospital', 'patients', 'covid', 'medical', 'healthcare', 'doctors'],\n",
    "    ['coronavirus', 'spread', 'people', 'social', 'virus', 'pandemic', 'distancing', 'health', 'lockdown', 'states'],\n",
    "    ['city', 'coronavirus', 'york', 'florida', 'state', 'residents', 'mayor', 'cuomo', 'nursing', 'home'],\n",
    "    ['coronavirus', 'travel', 'cruise', 'flights', 'covid', 'international', 'passengers', 'ship', 'countries', 'airport'],\n",
    "    ['coronavirus', 'pandemic', 'economy', 'market', 'economic', 'oil', 'global', 'industry', 'crisis', 'impact'],\n",
    "    ['coronavirus', 'home', 'kids', 'social', 'children', 'time', 'stay', 'free', 'distancing', 'pandemic'],\n",
    "    ['coronavirus', 'video', 'media', 'facebook', 'share', 'social', 'covid', 'news', 'people', 'twitter'],\n",
    "    ['people', 'coronavirus', \"don't\", \"it's\", 'virus', 'time', 'home', 'dont', 'stay', 'things'],\n",
    "    ['cases', 'coronavirus', 'deaths', 'covid', 'confirmed', 'number', 'death', 'total', 'reported', 'toll'],\n",
    "    ['san', 'los', 'angeles', 'county', 'las', 'santa', 'coronavirus', 'diego', 'francisco', 'covid'],\n",
    "    ['hands', 'coronavirus', 'covid', 'wash', 'home', 'spread', 'stay', 'people', 'water', 'avoid'],\n",
    "    ['health', 'continue', 'staff', 'time', 'covid', 'community', 'safety', 'march', 'safe', 'situation'],\n",
    "    ['covid', 'immune', 'system', 'malaysia', 'vitamin', 'coronavirus', 'body', 'products', 'disinfectant', 'virus'],\n",
    "    ['china', 'coronavirus', 'chinese', 'wuhan', 'world', 'virus', 'outbreak', 'pandemic', 'covid', 'health'],\n",
    "    ['covid', 'coronavirus', 'minister', 'south', 'africa', 'australia', 'prime', 'health', 'government', 'canada'],\n",
    "    ['coronavirus', 'covid', 'app', 'home', 'free', 'online', 'money', 'phone', 'scams', 'information'],\n",
    "    ['covid', 'online', 'business', 'join', 'free', 'time', 'virtual', 'webinar', 'coronavirus', 'zoom'],\n",
    "    ['covid', 'coronavirus', 'information', 'health', 'disease', 'questions', 'resources', 'website', 'public', 'cdc'],\n",
    "    ['police', 'coronavirus', 'people', 'lockdown', 'man', 'officers', 'arrested', 'home', 'social', 'covid'],\n",
    "    ['god', 'church', 'coronavirus', 'jesus', 'pray', 'prayer', 'lord', 'world', 'time', 'christ'],\n",
    "    ['time', 'day', 'coronavirus', 'home', 'love', 'family', 'back', 'post', 'good', 'life'],\n",
    "    ['coronavirus', 'live', 'news', 'update', 'covid', 'latest', 'updates', 'watch', 'press', 'briefing'],\n",
    "    ['coronavirus', 'court', 'election', 'state', 'pandemic', 'inmates', 'prison', 'ohio', 'release', 'primary'],\n",
    "    ['coronavirus', 'covid', 'pandemic', 'director', 'episode', 'podcast', 'show', 'questions', 'talk', 'news'],\n",
    "    ['food', 'coronavirus', 'delivery', 'local', 'restaurants', 'restaurant', 'free', 'order', 'pandemic', 'meals'],\n",
    "    ['coronavirus', 'virus', 'covid', 'symptoms', 'people', 'flu', 'disease', 'patients', 'risk', 'respiratory'],\n",
    "    ['state', 'nigeria', 'covid', 'coronavirus', 'lagos', 'government', 'nigerian', 'governor', 'nigerians', 'buhari'],\n",
    "    ['coronavirus', 'stores', 'store', 'closed', 'open', 'park', 'grocery', 'parks', 'service', 'customers'],\n",
    "    ['coronavirus', 'died', 'covid', 'positive', 'hospital', 'johnson', 'tested', 'family', 'boris'],\n",
    "    ['coronavirus', 'music', 'live', 'song', 'pandemic', 'show', 'covid', 'artists', 'world', 'concert'],\n",
    "    ['india', 'covid', 'coronavirus', 'lockdown', 'minister', 'delhi', 'indian', 'kashmir', 'government', 'modi'],\n",
    "    ['coronavirus', 'health', 'covid', 'pandemic', 'people', 'mental', 'women', 'anxiety', 'crisis', 'support'],\n",
    "    ['health', 'public', 'emergency', 'government', 'covid', 'state', 'services', 'measures', 'national', 'response'],\n",
    "    ['coronavirus', 'world', 'earth', 'climate', 'israel', 'time', 'air', 'change', 'pollution', 'animals'],\n",
    "    ['coronavirus', 'businesses', 'small', 'business', 'unemployment', 'relief', 'covid', 'pay', 'tax', 'workers'],\n",
    "    ['masks', 'face', 'coronavirus', 'mask', 'medical', 'equipment', 'supplies', 'protective', 'ventilators', 'hand'],\n",
    "    ['blood', 'army', 'coronavirus', 'military', 'covid', 'navy', 'national', 'fire', 'guard'],\n",
    "    ['covid', 'ang', 'city', 'disease', 'philippines', 'mga', 'quarantine', 'manila', 'duterte', 'philippine']     \n",
    "]\n",
    "#'year-old' 'u.s'"
   ]
  },
  {
   "cell_type": "code",
   "execution_count": null,
   "metadata": {},
   "outputs": [],
   "source": [
    "cm = CoherenceModel(topics=topics, corpus=corpus, dictionary=dictionary, coherence='u_mass')\n",
    "coherence_scores = cm.get_coherence_per_topic()"
   ]
  },
  {
   "cell_type": "code",
   "execution_count": null,
   "metadata": {},
   "outputs": [],
   "source": [
    "coherence_scores"
   ]
  }
 ],
 "metadata": {
  "kernelspec": {
   "display_name": "Python 3",
   "language": "python",
   "name": "python3"
  },
  "language_info": {
   "codemirror_mode": {
    "name": "ipython",
    "version": 3
   },
   "file_extension": ".py",
   "mimetype": "text/x-python",
   "name": "python",
   "nbconvert_exporter": "python",
   "pygments_lexer": "ipython3",
   "version": "3.8.5"
  }
 },
 "nbformat": 4,
 "nbformat_minor": 4
}
