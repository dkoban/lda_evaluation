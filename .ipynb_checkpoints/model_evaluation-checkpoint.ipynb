{
 "cells": [
  {
   "cell_type": "markdown",
   "metadata": {},
   "source": [
    "# Topic Model Diagnostics"
   ]
  },
  {
   "cell_type": "markdown",
   "metadata": {},
   "source": [
    "## Load Word Counts by Topic / Parse into Tidy Structure"
   ]
  },
  {
   "cell_type": "code",
   "execution_count": null,
   "metadata": {},
   "outputs": [],
   "source": [
    "import pandas as pd\n",
    "import re\n",
    "\n",
    "def tidy_word_count(data, row):\n",
    "    df = pd.DataFrame({'term': [], 'topic_count':[]})\n",
    "    try:\n",
    "        topic_count = data[row][2:len(data[row])]    \n",
    "        df = pd.DataFrame({'topic_count': topic_count})  \n",
    "        df['term'] = data[row][1]    \n",
    "    except:\n",
    "        pass\n",
    "    return df\n",
    "\n",
    "data = []\n",
    "with open('/Users/dankoban/Documents/EM6575/mallet_command_line/ct.wordtopiccounts','r') as infile:\n",
    "    for line in infile:        \n",
    "        line = line.split(' ')        \n",
    "        data.append(line)      \n",
    "\n",
    "counter = 0\n",
    "tidy_dfs = []\n",
    "for i in range(0, len(data)):\n",
    "    tidy_dfs.append(tidy_word_count(data = data, row = i))\n",
    "    counter += 1\n",
    "    if counter %10000 == 0:\n",
    "        print(str(counter) + ' out of ' + str(len(data)))\n",
    "        \n",
    "df = pd.concat(tidy_dfs)\n",
    "\n",
    "df['topic_count'] = df['topic_count'].apply(lambda x: re.sub(r'\\n', '', x)) \n",
    "df['topic'] = df['topic_count'].apply(lambda x: x.split(\":\")[0])\n",
    "df['count'] = df['topic_count'].apply(lambda x: x.split(\":\")[1])\n",
    "df = df[['term', 'topic', 'count']]            \n",
    "df.reset_index(inplace = True, drop = True)\n",
    "df.to_csv('/Users/dankoban/Documents/EM6575/mallet_command_line/tidy_topics.csv', index=False)        "
   ]
  },
  {
   "cell_type": "markdown",
   "metadata": {},
   "source": [
    "## Load Topics by Documents / Parse into Tidy Structure"
   ]
  },
  {
   "cell_type": "code",
   "execution_count": null,
   "metadata": {},
   "outputs": [],
   "source": [
    "import pandas as pd\n",
    "def tidy_doc_to_topic(data, max_topics_per_doc):\n",
    "    df = pd.DataFrame({'topics': [], 'proportion':[],\n",
    "                       'doc_id': [], 'file':[]})\n",
    "    try:\n",
    "        topics = [data[2]]\n",
    "        proportions = [data[3]]\n",
    "        for i in range(0, max_topics_per_doc):\n",
    "            try: \n",
    "                topics.append(data[2*(i+1)+2])\n",
    "                proportions.append(data[2*(i+1)+3])\n",
    "            except:\n",
    "                pass\n",
    "\n",
    "        df = pd.DataFrame({'topics': topics,\n",
    "                           'proportion': proportions})\n",
    "        df['doc_id'] = data[0]\n",
    "        df['file'] = data[1]\n",
    "        return df\n",
    "    except: \n",
    "        pass\n",
    "\n",
    "data = []\n",
    "with open('/Users/dankoban/Desktop/Twitter/hashtag model/hashtags.doctopics_sparse','r') as infile:\n",
    "    for line in infile:        \n",
    "        line = line.rstrip().split('\\t')\n",
    "        data.append(line)\n",
    "len(data)"
   ]
  },
  {
   "cell_type": "code",
   "execution_count": null,
   "metadata": {},
   "outputs": [],
   "source": [
    "counter = 0\n",
    "tidy_dfs = []\n",
    "for i in range(1, len(data)):    \n",
    "    tidy_dfs.append(tidy_doc_to_topic(data = data[i], max_topics_per_doc = 10))\n",
    "    counter += 1\n",
    "    if counter %25000 == 0:\n",
    "        print(str(counter) + ' out of ' + str(len(data)))\n",
    "\n",
    "df = pd.concat(tidy_dfs)\n",
    "df"
   ]
  },
  {
   "cell_type": "code",
   "execution_count": null,
   "metadata": {},
   "outputs": [],
   "source": [
    "df.reset_index(inplace = True, drop = True)\n",
    "#df.to_csv('/Users/dankoban/Desktop/Twitter/tidy_docs2topics.csv', index=False)  "
   ]
  },
  {
   "cell_type": "markdown",
   "metadata": {},
   "source": [
    "## Load data from step 1 and 2"
   ]
  },
  {
   "cell_type": "markdown",
   "metadata": {},
   "source": [
    "Load the parsed data to save processing time."
   ]
  },
  {
   "cell_type": "code",
   "execution_count": null,
   "metadata": {},
   "outputs": [],
   "source": [
    "import seaborn as sns\n",
    "import pandas as pd\n",
    "import math\n",
    "\n",
    "TopicTermFreq = pd.read_csv('/Users/dankoban/Desktop/Twitter/tidy_topics.csv')\n",
    "TopicTermFreq.head()"
   ]
  },
  {
   "cell_type": "code",
   "execution_count": null,
   "metadata": {},
   "outputs": [],
   "source": [
    "docs2topic = pd.read_csv('/Users/dankoban/Desktop/Twitter/tidy_docs2topics.csv')\n",
    "docs2topic.head()"
   ]
  },
  {
   "cell_type": "markdown",
   "metadata": {},
   "source": [
    "## 1. Tokens per Topic\n",
    "\n",
    "These descriptions are designed to make sense without mathematical definitions, but we include them for specificity. We'll use the symbols $w$ for a word, $k$ for a topic, and $d$ for a document. Several metrics count tokens. For these we define variables $N_{d,w,k}$ as the number of times word $w$ occurs in document $d$ assigned to topic $k$, $N_{d,k}$ as $\\sum_wN_{d,w,k}$. Other metrics involve document frequencies. $D(w)$ is the number of documents that contain at least one token of type $w$, and $D(w_1,w_2)$ is the number of documents that contain at least one $w_1$ and one $w_2$. Finally, we define $W_k$ to be the $N$ most probable words in topic $k$. $𝟙(p)$ is equal to 1 if predicate $p$ is true, and 0 otherwise.\n",
    "\n",
    "**Tokens.** This metric measures the number of word tokens currently assigned to the topic $N_k=\\sum_dN_{d,k}$. Comparing this number to the sum of the token counts for all topics will give you the proportion of the corpus assigned to the topic. If you are using optimized hyperparameters this number will vary considerably across topics; otherwise it will be roughly the same for all topics. We usually find topics most interesting if they are not on the extremes of this range. Small numbers (relative to other topics) are often a sign that a topic may not be reliable: we don't have enough observations to get a good sense of the topic's word distribution. Large numbers may also be bad: extremely frequent topics are often \"not-quite-stopwords\". For example, in the sample model the largest topic is \"time number term part system form\"."
   ]
  },
  {
   "cell_type": "code",
   "execution_count": null,
   "metadata": {},
   "outputs": [],
   "source": [
    "tokens_by_topic = []\n",
    "for i in range(0, 50):\n",
    "    token_count = sum(TopicTermFreq[TopicTermFreq['topic'] == i]['count'])\n",
    "    tokens_by_topic.append([i, token_count])\n",
    "tokens_by_topic = pd.DataFrame(tokens_by_topic,\n",
    "                               columns = ['topic', 'token_count'])\n",
    "tokens_by_topic.to_csv('/Users/dankoban/Desktop/Twitter/diagnostic_files/tokens_by_topic.csv', index=False)  \n",
    "tokens_by_topic.head()    "
   ]
  },
  {
   "cell_type": "code",
   "execution_count": null,
   "metadata": {},
   "outputs": [],
   "source": [
    "sns.distplot(tokens_by_topic[\"token_count\"])"
   ]
  },
  {
   "cell_type": "code",
   "execution_count": null,
   "metadata": {},
   "outputs": [],
   "source": [
    "def top_n_terms(k, n = 20):\n",
    "    result = (TopicTermFreq[TopicTermFreq['topic'] == k].\n",
    "                  sort_values('count', ascending=False).head(n))\n",
    "    return result\n",
    "\n",
    "pd.set_option('display.max_colwidth', None)\n",
    "topic_top_20 = []\n",
    "for i in range(0, 50):\n",
    "    concat_terms = ', '.join(top_n_terms(i, n = 20)['term'].tolist())\n",
    "    topic_top_20.append([i, concat_terms])\n",
    "\n",
    "topic_tbl = pd.DataFrame(topic_top_20, columns = ['topic', 'top_n_terms'])\n",
    "topic_tbl"
   ]
  },
  {
   "cell_type": "markdown",
   "metadata": {},
   "source": [
    "## 2. Document Entropy\n",
    "\n",
    "We usually think of the probability of a topic given a document. For this metric we calculate the probability of documents given a topic. <br> <br>\n",
    "<center>\n",
    "$P(d|k)=\\frac{N_{d,k}}{\\sum_{d′}N_{d′,k}}$\n",
    "</center>\n",
    "<br> \n",
    "We count the frequency of a topic over all documents, and normalize to get a distribution, then calculate the entropy of that distribution $H(P(d|k))$. A topic with low entropy (i.e., high predictability) will be concentrated in a few documents, while a topic with higher entropy will be spread evenly over many documents. In the example topic model, the topics \"list links history external information site\" and \"game team league player players football games\" have roughly the same number of tokens, but the \"list\" topic has much higher entropy. It occurs to a small degree in many documents, while the \"game\" topic occurs a lot in a smaller number of documents. Low entropy isn't necessarily good: it can indicate unusual documents (did you accidentally import the Mac .DS_Store file?) or the presence of documents in other languages."
   ]
  },
  {
   "cell_type": "code",
   "execution_count": null,
   "metadata": {},
   "outputs": [],
   "source": [
    "topics = docs2topic['topics'].unique()\n",
    "document_total_n = len(docs2topic['doc_id'].unique())\n",
    "\n",
    "#frequency of a topic over all documents\n",
    "topic_k_count = len(docs2topic[docs2topic['topics'] == topics[0]])\n",
    "freq_topic_k = topic_k_count/document_total_n\n",
    "\n",
    "docs_per_topic = (docs2topic['topics'].\n",
    "                        value_counts().\n",
    "                        reset_index().\n",
    "                        rename(columns = {'index': 'topics',\n",
    "                                          'topics': 'doc_count'}))\n",
    "\n",
    "docs_per_topic['freq'] = docs_per_topic['doc_count'].apply(lambda x: x/document_total_n)\n",
    "docs_per_topic.head()"
   ]
  },
  {
   "cell_type": "markdown",
   "metadata": {},
   "source": [
    "Topics 34 appears in 12% of the documents."
   ]
  },
  {
   "cell_type": "code",
   "execution_count": null,
   "metadata": {},
   "outputs": [],
   "source": [
    "sns.distplot(docs_per_topic[\"doc_count\"])"
   ]
  },
  {
   "cell_type": "code",
   "execution_count": null,
   "metadata": {},
   "outputs": [],
   "source": [
    "topics_per_doc = (docs2topic['doc_id'].\n",
    "                        value_counts().\n",
    "                        reset_index().\n",
    "                        rename(columns = {'index': 'doc_id',\n",
    "                                          'doc_id': 'topic_count'}))\n",
    "\n",
    "topic_counts = (topics_per_doc['topic_count'].\n",
    "                        value_counts().\n",
    "                        reset_index().\n",
    "                        rename(columns = {'index': 'topic_count',\n",
    "                                          'topic_count': 'count'}))\n",
    "\n",
    "topic_counts['freq'] = topic_counts['count'].apply(lambda x: x/sum(topic_counts['count']))\n",
    "topic_counts"
   ]
  },
  {
   "cell_type": "markdown",
   "metadata": {},
   "source": [
    "76% of the documents are assigned to a single topic; less than 1% of documents are assigned to 3 topics."
   ]
  },
  {
   "cell_type": "code",
   "execution_count": null,
   "metadata": {},
   "outputs": [],
   "source": [
    "def doc_entropy(doc_id, topic_freq):\n",
    "    topics_in_doc = docs2topic[docs2topic['doc_id']==doc_id]['topics'].tolist()\n",
    "    probabilities = topic_freq['freq'][topic_freq['topics'].isin([topic for topic in topics_in_doc])]\n",
    "    entropy = sum([-prob*math.log2(prob) for prob in probabilities])\n",
    "    return entropy \n",
    "\n",
    "#####################################\n",
    "# Takes a very long time to calculate\n",
    "#####################################\n",
    "\n",
    "docs2topic['doc_entropy'] = docs2topic['doc_id'].apply(\n",
    "    lambda x: doc_entropy(x, topic_freq = docs_per_topic))\n",
    "\n",
    "#document_entropy = docs2topic\n",
    "#document_entropy.to_csv('/Users/dankoban/Desktop/Twitter/diagnostic_files/document_entropy.csv', index=False) "
   ]
  },
  {
   "cell_type": "code",
   "execution_count": null,
   "metadata": {},
   "outputs": [],
   "source": [
    "document_entropy = pd.read_csv('/Users/dankoban/Desktop/Twitter/diagnostic_files/document_entropy.csv') "
   ]
  },
  {
   "cell_type": "code",
   "execution_count": null,
   "metadata": {},
   "outputs": [],
   "source": [
    "unusual_docs = document_entropy.sort_values('doc_entropy')['doc_id'].tolist()[0:5]\n",
    "unusual_docs"
   ]
  },
  {
   "cell_type": "markdown",
   "metadata": {},
   "source": [
    "## 3. Word Length \n",
    "\n",
    "The average length, in characters, of the displayed top words. <br><br>\n",
    "<center>\n",
    "$\\frac{1}{|W|}\\sum_{w∈W}len(w)$ \n",
    "</center>\n",
    "<br>\n",
    "Words are not weighted by probablity or rank position. This is a useful proxy for topic specificity. Longer words often carry more specific meaning, so if the topic brings together lots of short words, it's probably not a very specific topic. This can also be a good way to pick up the \"hey, looks like we've got some Spanish!\" topic because we often pick up the short words that would be stopwords if we were modeling a corpus in that language. The example topic \"de french la france spanish spain italian paris el le\" has a number of this type of short words, but they seem to be due to Wikipedia articles talking about French, Spanish, and Italian things rather than actual text in those languages."
   ]
  },
  {
   "cell_type": "code",
   "execution_count": null,
   "metadata": {},
   "outputs": [],
   "source": [
    "topics = TopicTermFreq['topic'].unique().tolist()\n",
    "\n",
    "topic_ids = []\n",
    "avg_word_lengths = []\n",
    "for i in range(0, 50):\n",
    "    top_n = top_n_terms(k = i, n = 20)\n",
    "    avg_len = top_n['term'].apply(len).mean()\n",
    "    avg_word_lengths.append(avg_len)\n",
    "    topic_ids.append(i)\n",
    "\n",
    "AvgWordLenByTopic = pd.DataFrame({'topic': topic_ids,\n",
    "                                  'avg_word_length': avg_word_lengths})\n",
    "\n",
    "AvgWordLenByTopic = AvgWordLenByTopic.sort_values('avg_word_length', ascending = False)\n",
    "AvgWordLenByTopic.to_csv('/Users/dankoban/Desktop/Twitter/diagnostic_files/avg_word_len_by_topic.csv', index=False) \n",
    "AvgWordLenByTopic.head()"
   ]
  },
  {
   "cell_type": "code",
   "execution_count": null,
   "metadata": {},
   "outputs": [],
   "source": [
    "top_n_terms(k = 29, n = 10)"
   ]
  },
  {
   "cell_type": "markdown",
   "metadata": {},
   "source": [
    "## 4. Coherence\n",
    "\n",
    "This metric measures whether the words in a topic tend to co-occur together. We add up a score for each distinct pair of top ranked words. The score is the log of the probability that a document containing at least one instance of the higher-ranked word also contains at least one instance of the lower-ranked word. <br><br>\n",
    "<center>\n",
    "$\\sum_i\\sum_jlog\\frac{D(w_j,w_i)+β}{D(w_i)}$\n",
    "</center><br>\n",
    "To avoid log zero errors we add the \"beta\" topic-word smoothing parameter specified when you calculate diagnostics. Since these scores are log probabilities they are negative. Large negative values indicate words that don't co-occur often; values closer to zero indicate that words tend to co-occur more often. The least coherent topic in the sample file is \"polish poland danish denmark sweden swedish na norway norwegian sk red iceland bj baltic copenhagen cave greenland krak gda faroese\". This topic seems to be about Northern and Eastern European countries, but the short abbreviations \"na\" and \"sk\" and the words \"red\" and \"cave\" don't really fit.\n",
    "\n",
    "$D(w_j,w_i)$ = number of documents containing $w_i$ and $w_j$\n",
    "\n",
    "$D(w_i)$ = number of topics containing $w_i$\n",
    "\n",
    "$W$ = set of words describing the topic\n",
    "\n",
    "**I think I need the document term matrix**"
   ]
  },
  {
   "cell_type": "code",
   "execution_count": null,
   "metadata": {},
   "outputs": [],
   "source": [
    "top_terms_doc_freq = []\n",
    "for i in range(0, 50):\n",
    "    top_terms_doc_freq.append(top_n_terms(k = i, n = 10))\n",
    "\n",
    "top_terms_doc_freq = pd.concat(top_terms_doc_freq)\n",
    "top_terms_doc_freq.reset_index(drop = True, inplace = True)\n",
    "top_terms_doc_freq.head()"
   ]
  },
  {
   "cell_type": "code",
   "execution_count": null,
   "metadata": {},
   "outputs": [],
   "source": [
    "beta = 1\n",
    "top_terms = top_terms_doc_freq['term'].value_counts()\n",
    "\n",
    "# remove top terms that only appear in one topic\n",
    "top_terms = (top_terms[top_terms >= 2].\n",
    "             reset_index().\n",
    "             rename(columns = {'index': 'term',\n",
    "                               'term': 'count'}))\n",
    "\n",
    "from itertools import combinations\n",
    "pairs = list(combinations(top_terms['term'].tolist(), 2))\n",
    "print(\"number top terms: \" + str(len(top_terms)))\n",
    "print(str(len(top_terms)) + \" choose 2: \" + str(len(pairs)))\n",
    "pairs[0:5]"
   ]
  },
  {
   "cell_type": "code",
   "execution_count": null,
   "metadata": {},
   "outputs": [],
   "source": [
    "top_terms_topic_k = top_n_terms(k = i, n = 10)['term'].tolist()\n",
    "\n",
    "co_occur_list = []\n",
    "for pair in pairs:        \n",
    "    D_wji = 0\n",
    "    for i in range(0, 50):\n",
    "        topic_terms = top_terms_doc_freq[top_terms_doc_freq['topic']==i]['term'].to_list()        \n",
    "        if (pair[0] in topic_terms) & (pair[1] in topic_terms):\n",
    "            D_wji += 1\n",
    "    co_occur_list.append([pair[0], pair[1], D_wji])\n",
    "            \n",
    "co_occur_df = pd.DataFrame(co_occur_list, columns=['w_j', 'w_i', 'count_topic_containing_both'])           \n",
    "co_occur_df.head() "
   ]
  },
  {
   "cell_type": "markdown",
   "metadata": {},
   "source": [
    "## 5. Uniform Dist\n",
    "\n",
    "We want topics to be specific. This metric measures the distance from a topic's distribution over words to a uniform distribution. We calculate distance using Kullback-Leibler divergence.<br><br>\n",
    "<center>\n",
    "$\\sum_wP(w|k)log\\frac{P(w|k)}{\\frac{1}{|v|}}$\n",
    "</center><br>\n",
    "Larger values indicate more specificity."
   ]
  },
  {
   "cell_type": "code",
   "execution_count": null,
   "metadata": {},
   "outputs": [],
   "source": [
    "# https://en.wikipedia.org/wiki/Kullback%E2%80%93Leibler_divergence\n",
    "# Calculate distribution of topic k for top_n terms\n",
    "top_terms_doc_freq = []\n",
    "for i in range(0, 50):\n",
    "    top_terms_doc_freq.append(top_n_terms(k = i, n = 20))\n",
    "\n",
    "top_terms_doc_freq = pd.concat(top_terms_doc_freq)\n",
    "top_terms_doc_freq.reset_index(drop = True, inplace = True)\n",
    "\n",
    "unif_dist = []\n",
    "for k in range(0,50):\n",
    "    term_freq_topic_k = top_terms_doc_freq[top_terms_doc_freq['topic'] == k]['count'].tolist()\n",
    "    top_terms_topic_k = top_terms_doc_freq[top_terms_doc_freq['topic'] == k]['term'].tolist()\n",
    "    tot_words_topic_k = TopicTermFreq[(TopicTermFreq['topic'] == k) & \n",
    "                                      (TopicTermFreq['term'].isin(top_terms_topic_k)) ]['count'].sum()\n",
    "    w = term_freq_topic_k\n",
    "    P_x = list(w/tot_words_topic_k)\n",
    "    unif_dist.append([k, sum([p*math.log(p/(1/len(top_terms_topic_k))) for p in P_x])])\n",
    "\n",
    "unif_dist = pd.DataFrame(unif_dist, columns = ['topic', 'uniform_dist'])\n",
    "unif_dist = unif_dist.sort_values('uniform_dist', ascending = False)\n",
    "unif_dist.head()"
   ]
  },
  {
   "cell_type": "code",
   "execution_count": null,
   "metadata": {},
   "outputs": [],
   "source": [
    "# specific topics\n",
    "topic_tbl[topic_tbl['topic'].isin(unif_dist.head()['topic'].tolist())]"
   ]
  },
  {
   "cell_type": "code",
   "execution_count": null,
   "metadata": {},
   "outputs": [],
   "source": [
    "# general topics\n",
    "topic_tbl[topic_tbl['topic'].isin(unif_dist.tail()['topic'].tolist())]"
   ]
  },
  {
   "cell_type": "code",
   "execution_count": null,
   "metadata": {},
   "outputs": [],
   "source": [
    "unif_dist.to_csv('/Users/dankoban/Desktop/Twitter/diagnostic_files/uniform_dist.csv', index=False) "
   ]
  },
  {
   "cell_type": "markdown",
   "metadata": {},
   "source": [
    "## 6. Corpus Dist\n",
    "\n",
    "This metric measures how far a topic is from the overall distribution of words in the corpus — essentially what you would get if you \"trained\" a model with one topic. We calculate distance using Kullback-Leibler divergence. A greater distance means the topic is more distinct; a smaller distanace means that the topic is more similar to the corpus distribution. Not surprisingly, it correlates with number of tokens since a topic that makes up a large proportion of the tokens in the corpus is likely to be more similar to the overall corpus distribution. The closest topic to the corpus distribution is \"time number term part system form\". "
   ]
  },
  {
   "cell_type": "code",
   "execution_count": null,
   "metadata": {},
   "outputs": [],
   "source": [
    "total_terms = len(TopicTermFreq['term'].unique().tolist())\n",
    "corpus_dist = []\n",
    "for k in range(0,50):\n",
    "    term_freq_topic_k = top_terms_doc_freq[top_terms_doc_freq['topic'] == k]['count'].tolist()\n",
    "    P_x = [freq/total_terms for freq in term_freq_topic_k]\n",
    "    corpus_dist.append([k, sum([p*math.log(p/(1/total_terms)) for p in P_x])])\n",
    "corpus_dist = pd.DataFrame(corpus_dist, columns = ['topic', 'corpus_dist'])\n",
    "corpus_dist = corpus_dist.sort_values('corpus_dist', ascending = False)\n",
    "corpus_dist.head()"
   ]
  },
  {
   "cell_type": "code",
   "execution_count": null,
   "metadata": {},
   "outputs": [],
   "source": [
    "eval_summary = topic_tbl.merge(corpus_dist, how = 'left', on = 'topic')\n",
    "eval_summary = eval_summary.merge(unif_dist, how = 'left', on = 'topic')\n",
    "eval_summary = eval_summary.merge(tokens_by_topic, how = 'left', on = 'topic')\n",
    "eval_summary = eval_summary.sort_values('topic')\n",
    "eval_summary.reset_index(drop = True, inplace = True)\n",
    "eval_summary"
   ]
  },
  {
   "cell_type": "markdown",
   "metadata": {},
   "source": [
    "## 7. Effective Number of Words\n",
    "\n",
    "This metric is equivalent to the effective number of parties metric in Political Science. For each word we calculate the inverse of the squared probability of the word in the topic, and then add those numbers up. Larger numbers indicate more specificity. It is similar to distance from the uniform distribution, but produces a value that may be more interpretable."
   ]
  },
  {
   "cell_type": "code",
   "execution_count": null,
   "metadata": {},
   "outputs": [],
   "source": []
  },
  {
   "cell_type": "markdown",
   "metadata": {},
   "source": [
    "## 8. Token/Document Discrepancy\n",
    "\n",
    "This metric looks for \"bursty\" words within topics. We compare two distributions over words using Jensen-Shannon distance. The first distribution $P(w|k)∝N_{k,w}$ is the usual topic-word distribution proportional to the number of tokens of type w that are assigned to the topic. The second distribution $Q(w|k)∝\\sum_d𝟙(N_{d,w,k}>0)$ is proportional to the number of documents that contain at least one token of type w that is assigned to the topic. A words that occurs many times in only a few documents may appear prominently in the sorted list of words, but may not be a good representative word for the topic. This metric compares the number of times a word occurs in a topic (measured in tokens) and the number of documents the word occurs in as that topic (instances of the word assigned to other topics are not counted). The highest ranked topic in this metric is the \"polish poland danish denmark sweden swedish na norway norwegian sk red\" topic, suggesting that those ill-fitting words may be isolated in a few documents. Although this metric has the same goal as coherence, the two don't appear to correlate well: bursty words aren't necessarily unrelated to the topic, they're just unusually frequent in certain contexts."
   ]
  },
  {
   "cell_type": "code",
   "execution_count": null,
   "metadata": {},
   "outputs": [],
   "source": []
  },
  {
   "cell_type": "markdown",
   "metadata": {},
   "source": [
    "## 9. Rank 1 Documents\n",
    "\n",
    "Some topics are specific, while others aren't really \"topics\" but language that comes up because we are writing in a certain context. Academic writing will talk about \"paper abstract data\", and a Wikipedia article will talk about \"list links history\". The difference is often measurable in terms of burstiness. A content-ful topic will occur in relatively few documents, but when it does, it will produce a lot of tokens. A \"background\" topic will occur in many documents and have a high overall token count, but never produce many tokens in any single document. This metric counts the frequency at which a given topic is the single most frequent topic in a document. Specific topics like \"music album band song\" or \"cell cells disease dna blood treatment\" are the \"rank 1\" topic in many documents. High token-count topics often have few rank-1 documents. This metric is often useful as a way to identify corpus-specific stopwords. But rarer topics can also have few rank-1 documents: \"day year calendar days years month\" is a representative example — topics for days of the week and units of measurement often appear in documents as a distinct discourse, but they are rarely the focus of a document.\n"
   ]
  },
  {
   "cell_type": "code",
   "execution_count": null,
   "metadata": {},
   "outputs": [],
   "source": []
  },
  {
   "cell_type": "markdown",
   "metadata": {},
   "source": [
    "## 10. Allocation Count\n",
    "\n",
    "This metric has a similar motivation to the rank-1-docs metric. For each document we can calculate the percentage of that document assigned to a given topic. We can then observe how often that percentage is above a certain threshold, by default 30%"
   ]
  },
  {
   "cell_type": "code",
   "execution_count": null,
   "metadata": {},
   "outputs": [],
   "source": []
  },
  {
   "cell_type": "markdown",
   "metadata": {},
   "source": [
    "## 11. Allocation Ratio\n",
    "\n",
    "This metric reports the ratio of allocation counts at two different thresholds, by default 50% and 2%."
   ]
  },
  {
   "cell_type": "code",
   "execution_count": null,
   "metadata": {},
   "outputs": [],
   "source": []
  },
  {
   "cell_type": "markdown",
   "metadata": {},
   "source": [
    "## 12. Exclusivity\n",
    "\n",
    "This metric measures the extent to which the top words for this topic are do not appear as top words in other topics -- i.e., the extent to which its top words are 'exclusive.' The value is the average, over each top word, of the probability of that word in the topic divided by the sum of the probabilities of that word in all topics. Of the top words in the topic, how often to they occur in other topics? Exclusivity correlates (negatively) with token count, but also indicates vaguer, more general topics. \"black hand back body cross man\" is about the same size as \"isbn book press published work books\", but is much less exclusive."
   ]
  },
  {
   "cell_type": "code",
   "execution_count": null,
   "metadata": {},
   "outputs": [],
   "source": []
  }
 ],
 "metadata": {
  "kernelspec": {
   "display_name": "forcenexus",
   "language": "python",
   "name": "forcenexus"
  },
  "language_info": {
   "codemirror_mode": {
    "name": "ipython",
    "version": 3
   },
   "file_extension": ".py",
   "mimetype": "text/x-python",
   "name": "python",
   "nbconvert_exporter": "python",
   "pygments_lexer": "ipython3",
   "version": "3.8.2"
  }
 },
 "nbformat": 4,
 "nbformat_minor": 4
}
