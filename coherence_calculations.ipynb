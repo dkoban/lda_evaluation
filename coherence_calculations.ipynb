{
 "cells": [
  {
   "cell_type": "markdown",
   "metadata": {},
   "source": [
    "## Calculate coherence for a pretrained model\n",
    "\n",
    "The following workflow describes how to use gensim to calculate coherence measures for an LDA model that has already identified topics."
   ]
  },
  {
   "cell_type": "markdown",
   "metadata": {},
   "source": [
    "## Extract the top 10 terms from the term frequency table"
   ]
  },
  {
   "cell_type": "code",
   "execution_count": 1,
   "metadata": {},
   "outputs": [],
   "source": [
    "import pandas as pd\n",
    "from gensim.corpora.dictionary import Dictionary\n",
    "from gensim.models import CoherenceModel\n",
    "\n",
    "TopicTermFreq = pd.read_csv('/Users/dankoban/Documents/EM6575/mallet_command_line/ct_tidy_topics.csv')\n",
    "\n",
    "num_topics = 50\n",
    "num_top_terms = 10\n",
    "\n",
    "topic_term_list = []\n",
    "top_terms = []\n",
    "for k in range(1, num_topics+1):    \n",
    "    top_terms_topic_k = TopicTermFreq[TopicTermFreq['topic'] == (k-1)].sort_values('count', ascending = False)['term'].tolist()[0:num_top_terms]\n",
    "    top_terms_topic_k = [term.replace('.', '') for term in top_terms_topic_k]\n",
    "    top_terms_topic_k = [term.replace(\"'\", '') for term in top_terms_topic_k]\n",
    "    top_terms_topic_k = [term.replace(\"-\", '') for term in top_terms_topic_k]\n",
    "    top_terms = top_terms + top_terms_topic_k\n",
    "    topic_term_list.append(top_terms_topic_k)\n",
    "\n",
    "top_terms = list(set(top_terms))"
   ]
  },
  {
   "cell_type": "markdown",
   "metadata": {},
   "source": [
    "## Load the raw text files and parse to retain top term vocab only"
   ]
  },
  {
   "cell_type": "code",
   "execution_count": 2,
   "metadata": {},
   "outputs": [
    {
     "name": "stdout",
     "output_type": "stream",
     "text": [
      "500000\n",
      "1000000\n",
      "1500000\n",
      "2000000\n",
      "2500000\n",
      "3000000\n",
      "3500000\n",
      "4000000\n",
      "4500000\n",
      "5000000\n",
      "5500000\n",
      "6000000\n",
      "6500000\n",
      "7000000\n",
      "7500000\n",
      "8000000\n",
      "8500000\n",
      "9000000\n",
      "9500000\n",
      "10000000\n",
      "10500000\n",
      "11000000\n"
     ]
    }
   ],
   "source": [
    "texts = []\n",
    "counter = 0\n",
    "with open('/Users/dankoban/Documents/CT_LDA/CT_data/mallet_input_data_crowdtangle.txt','r') as infile:\n",
    "    for line in infile:\n",
    "        line = line.split(' ')                  \n",
    "        line = [term.replace('.', '') for term in line]\n",
    "        line = [term.replace(\"'\", '') for term in line]\n",
    "        line = [term.replace(\"-\", '') for term in line]        \n",
    "        line = [word.lower() for word in line if word.lower() in top_terms]\n",
    "        line = list(set(line))\n",
    "        counter += 1\n",
    "        if counter %500000 == 0:\n",
    "            print(counter)\n",
    "        texts.append(line)      "
   ]
  },
  {
   "cell_type": "markdown",
   "metadata": {},
   "source": [
    "## Transform the raw text into bag of words dictionary and corpus"
   ]
  },
  {
   "cell_type": "code",
   "execution_count": 3,
   "metadata": {},
   "outputs": [],
   "source": [
    "dictionary = Dictionary(texts)\n",
    "corpus = [dictionary.doc2bow(text) for text in texts]"
   ]
  },
  {
   "cell_type": "markdown",
   "metadata": {},
   "source": [
    "## Calculate topic coherence "
   ]
  },
  {
   "cell_type": "code",
   "execution_count": 4,
   "metadata": {},
   "outputs": [
    {
     "data": {
      "text/plain": [
       "[-3.978878204157565,\n",
       " -2.299720968385133,\n",
       " -2.005407063176433,\n",
       " -3.172322365847731,\n",
       " -2.240740997598709,\n",
       " -2.388352787702119,\n",
       " -2.036640510975703,\n",
       " -2.900492531931636,\n",
       " -1.8349444344914034,\n",
       " -3.0766114248037457,\n",
       " -2.3270905023555954,\n",
       " -4.283486157007621,\n",
       " -2.3964789147181302,\n",
       " -2.236048173669421,\n",
       " -3.06967317604051,\n",
       " -3.428580898919883,\n",
       " -2.756076446123321,\n",
       " -2.237700586151633,\n",
       " -2.636235271806184,\n",
       " -2.037812383769127,\n",
       " -2.2296224707148427,\n",
       " -3.255973765727164,\n",
       " -2.119104969117333,\n",
       " -2.2424927644913515,\n",
       " -3.1675029766354825,\n",
       " -2.051539249502048,\n",
       " -3.02294447200405,\n",
       " -3.185954107693092,\n",
       " -2.7205895282298695,\n",
       " -2.4588847425999365,\n",
       " -2.85354086518332,\n",
       " -2.045536705113718,\n",
       " -2.386392181929321,\n",
       " -3.046281174340204,\n",
       " -3.607602698791733,\n",
       " -3.263780561646673,\n",
       " -2.6155231395562053,\n",
       " -2.6199529274512274,\n",
       " -2.9974466794375765,\n",
       " -3.0241401095924902,\n",
       " -3.5443366793934654,\n",
       " -3.4611927361080577,\n",
       " -3.1652307615092443,\n",
       " -3.030180916820792,\n",
       " -2.264092538185675,\n",
       " -3.714548811509984,\n",
       " -2.8918982345643016,\n",
       " -2.6478903273771097,\n",
       " -3.437546453309947,\n",
       " -2.9733288143106824]"
      ]
     },
     "execution_count": 4,
     "metadata": {},
     "output_type": "execute_result"
    }
   ],
   "source": [
    "from gensim.models import CoherenceModel\n",
    "\n",
    "cm = CoherenceModel(topics=topic_term_list, corpus=corpus, dictionary=dictionary, coherence='u_mass')\n",
    "coherence_scores = cm.get_coherence_per_topic()\n",
    "coherence_scores"
   ]
  }
 ],
 "metadata": {
  "kernelspec": {
   "display_name": "Python 3",
   "language": "python",
   "name": "python3"
  },
  "language_info": {
   "codemirror_mode": {
    "name": "ipython",
    "version": 3
   },
   "file_extension": ".py",
   "mimetype": "text/x-python",
   "name": "python",
   "nbconvert_exporter": "python",
   "pygments_lexer": "ipython3",
   "version": "3.8.5"
  }
 },
 "nbformat": 4,
 "nbformat_minor": 4
}
