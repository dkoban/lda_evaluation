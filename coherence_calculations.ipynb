{
 "cells": [
  {
   "cell_type": "markdown",
   "metadata": {},
   "source": [
    "## Calculate coherence for a pretrained model\n",
    "\n",
    "The following workflow describes how to use gensim to calculate coherence measures for an LDA model that has already identified topics."
   ]
  },
  {
   "cell_type": "markdown",
   "metadata": {},
   "source": [
    "## Extract the top 10 terms from the term frequency table"
   ]
  },
  {
   "cell_type": "code",
   "execution_count": 1,
   "metadata": {},
   "outputs": [],
   "source": [
    "import pandas as pd\n",
    "from gensim.corpora.dictionary import Dictionary\n",
    "from gensim.models import CoherenceModel\n",
    "import re\n",
    "\n",
    "#TopicTermFreq = pd.read_csv('/Users/dankoban/Documents/EM6575/mallet_command_line/ct_tidy_topics.csv')\n",
    "TopicTermFreq = pd.read_csv('/Users/dankoban/Documents/EM6575/twitter/twitter_tidy_topics.csv')\n",
    "\n",
    "num_topics = 50\n",
    "num_top_terms = 10\n",
    "\n",
    "topic_term_list = []\n",
    "top_terms = []\n",
    "for k in range(1, num_topics+1):    \n",
    "    top_terms_topic_k = TopicTermFreq[TopicTermFreq['topic'] == (k-1)].sort_values('count', ascending = False)['term'].tolist()[0:num_top_terms]\n",
    "    top_terms_topic_k = [re.sub(r'\\W+', '', term) for term in top_terms_topic_k]    \n",
    "    top_terms = top_terms + top_terms_topic_k\n",
    "    topic_term_list.append(top_terms_topic_k)\n",
    "\n",
    "top_terms = list(set(top_terms))"
   ]
  },
  {
   "cell_type": "markdown",
   "metadata": {},
   "source": [
    "## Load the raw text files and parse to retain top term vocab only"
   ]
  },
  {
   "cell_type": "code",
   "execution_count": 2,
   "metadata": {},
   "outputs": [
    {
     "name": "stdout",
     "output_type": "stream",
     "text": [
      "500000\n",
      "1000000\n",
      "1500000\n",
      "2000000\n",
      "2500000\n",
      "3000000\n",
      "3500000\n",
      "4000000\n",
      "4500000\n",
      "5000000\n",
      "5500000\n",
      "6000000\n",
      "6500000\n",
      "7000000\n",
      "7500000\n",
      "8000000\n",
      "8500000\n",
      "9000000\n",
      "9500000\n",
      "10000000\n",
      "10500000\n",
      "11000000\n",
      "11500000\n",
      "12000000\n",
      "12500000\n",
      "13000000\n",
      "13500000\n",
      "14000000\n"
     ]
    }
   ],
   "source": [
    "texts = []\n",
    "counter = 0\n",
    "#with open('/Users/dankoban/Documents/CT_LDA/CT_data/mallet_input_data_crowdtangle.txt','r') as infile:\n",
    "with open('/Users/dankoban/Documents/EM6575/twitter/hashtag model/mallet_nocomma_no@.txt','r') as infile:    \n",
    "    for line in infile:\n",
    "        line = line.split(' ')                  \n",
    "        line = [re.sub(r'\\W+', '', term) for term in line]\n",
    "        line = [word.lower() for word in line if word.lower() in top_terms]\n",
    "        line = list(set(line))\n",
    "        counter += 1\n",
    "        if counter %500000 == 0:            \n",
    "            print(counter)\n",
    "        texts.append(line)      "
   ]
  },
  {
   "cell_type": "markdown",
   "metadata": {},
   "source": [
    "## Transform the raw text into bag of words dictionary and corpus"
   ]
  },
  {
   "cell_type": "code",
   "execution_count": 3,
   "metadata": {},
   "outputs": [],
   "source": [
    "dictionary = Dictionary(texts)\n",
    "corpus = [dictionary.doc2bow(text) for text in texts]"
   ]
  },
  {
   "cell_type": "markdown",
   "metadata": {},
   "source": [
    "## Calculate topic coherence "
   ]
  },
  {
   "cell_type": "code",
   "execution_count": 4,
   "metadata": {},
   "outputs": [
    {
     "data": {
      "text/plain": [
       "[-4.57445971827279,\n",
       " -6.505849751978521,\n",
       " -3.751673392963046,\n",
       " -3.22298514577627,\n",
       " -7.446415826076183,\n",
       " -2.4565096954705905,\n",
       " -4.563694261699008,\n",
       " -4.388998511867815,\n",
       " -3.3976821578401495,\n",
       " -4.5552923597313715,\n",
       " -3.748189597795187,\n",
       " -3.5002872992080896,\n",
       " -4.012745382782841,\n",
       " -4.9423134665416875,\n",
       " -4.397528202154902,\n",
       " -5.110074660499582,\n",
       " -4.590958969332789,\n",
       " -3.969075293240008,\n",
       " -4.4237498912949045,\n",
       " -3.3842137900712386,\n",
       " -4.383665342479561,\n",
       " -5.350602127901752,\n",
       " -4.0775899008318754,\n",
       " -5.081703266289324,\n",
       " -3.41509585372713,\n",
       " -3.078583941350838,\n",
       " -4.9168828548249985,\n",
       " -4.36313042608254,\n",
       " -3.3002984518204515,\n",
       " -2.841411617231853,\n",
       " -3.891200577798426,\n",
       " -4.354412544978026,\n",
       " -3.1269961580901464,\n",
       " -3.657985318372107,\n",
       " -3.0707961606251724,\n",
       " -2.8366252927093925,\n",
       " -5.007230803507584,\n",
       " -8.11118489988223,\n",
       " -5.513449719159767,\n",
       " -4.158425464853597,\n",
       " -3.559006628027826,\n",
       " -3.5630438274885132,\n",
       " -7.179693651748433,\n",
       " -4.030279671955433,\n",
       " -4.103612838157457,\n",
       " -3.695535243025001,\n",
       " -2.983323282684404,\n",
       " -3.9425354226404434,\n",
       " -4.48745848580832,\n",
       " -4.644517263651499]"
      ]
     },
     "execution_count": 4,
     "metadata": {},
     "output_type": "execute_result"
    }
   ],
   "source": [
    "from gensim.models import CoherenceModel\n",
    "\n",
    "cm = CoherenceModel(topics=topic_term_list, corpus=corpus, dictionary=dictionary, coherence='u_mass')\n",
    "coherence_scores = cm.get_coherence_per_topic()\n",
    "coherence_scores"
   ]
  }
 ],
 "metadata": {
  "kernelspec": {
   "display_name": "Python 3",
   "language": "python",
   "name": "python3"
  },
  "language_info": {
   "codemirror_mode": {
    "name": "ipython",
    "version": 3
   },
   "file_extension": ".py",
   "mimetype": "text/x-python",
   "name": "python",
   "nbconvert_exporter": "python",
   "pygments_lexer": "ipython3",
   "version": "3.8.5"
  }
 },
 "nbformat": 4,
 "nbformat_minor": 4
}
